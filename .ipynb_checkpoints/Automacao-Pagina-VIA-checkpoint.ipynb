{
 "cells": [
  {
   "cell_type": "code",
   "execution_count": 1,
   "metadata": {},
   "outputs": [],
   "source": [
    "from selenium import webdriver\n",
    "from selenium.webdriver.support.ui import WebDriverWait\n",
    "from selenium.webdriver.common.keys import Keys"
   ]
  },
  {
   "cell_type": "code",
   "execution_count": 9,
   "metadata": {},
   "outputs": [],
   "source": [
    "browser = webdriver.Chrome(executable_path=r\"D:\\USP\\provaVIA\\avaliacaoVIA\\chromedriver.exe\")\n",
    "browser.get(\"https://bit.ly/3jOMrR9\")\n",
    "\n",
    "pesquisa_qa = browser.find_element_by_xpath(\"//*[@id='menu-item-226']/a\")\n",
    "pesquisa_qa.click()\n",
    "\n",
    "pesquisa_nome = browser.find_element_by_xpath(\"//*[@id='nf-field-5']\")\n",
    "pesquisa_nome.send_keys('Benicio Ramos')\n",
    "\n",
    "pesquisa_sobrenome = browser.find_element_by_xpath(\"//*[@id='nf-field-6']\")\n",
    "pesquisa_sobrenome.send_keys('Magalhães')\n",
    "\n",
    "pesquisa_email = browser.find_element_by_xpath(\"//*[@id='nf-field-7']\")\n",
    "pesquisa_email.send_keys('benicio_sa68@yahoo.com.br')\n",
    "\n",
    "pesquisa_confirma_email = browser.find_element_by_xpath(\"//*[@id='nf-field-8']\")\n",
    "pesquisa_confirma_email.send_keys('benicio_sa68@yahoo.com.br')\n",
    "\n",
    "pesquisa_tel = browser.find_element_by_xpath(\"//*[@id='nf-field-17']\")\n",
    "pesquisa_tel.send_keys('12991367430')\n",
    "\n",
    "pesquisa_idade = browser.find_element_by_xpath(\"//*[@id='nf-label-class-field-10-1']\")\n",
    "pesquisa_idade.click()\n",
    "\n",
    "pesquisa_tempo_qa = browser.find_element_by_xpath(\"//*[@id='nf-field-11']/option[3]\")\n",
    "pesquisa_tempo_qa.click()\n",
    "\n",
    "pesquisa_atrativo = browser.find_element_by_xpath(\"//*[@id='nf-field-12']/option[2]\")\n",
    "pesquisa_atrativo.click()\n",
    "\n",
    "pesquisa_melhoria = browser.find_element_by_xpath(\"//*[@id='nf-label-class-field-13-3']\")\n",
    "pesquisa_melhoria.click()\n",
    "\n",
    "pesquisa_programacao = browser.find_element_by_xpath(\"//*[@id='nf-field-14']\")\n",
    "pesquisa_programacao.send_keys('Java, Python, .NET, C, C++')\n",
    "\n",
    "pesquisa_plano = browser.find_element_by_xpath(\"//*[@id='nf-field-15']\")\n",
    "pesquisa_plano.send_keys('Ando desenvolvendo bastante minhas habilidades de gestão e liderança. Pretendo seguir primeiramente atuando na frente técnica, porém, evoluindo as habilidades de gestão, para dar um próximo passo na carreira como gestor.')\n",
    "\n",
    "pesquisa_enviar = browser.find_element_by_xpath(\"//*[@id='nf-field-16']\")\n",
    "pesquisa_enviar.click()"
   ]
  },
  {
   "cell_type": "code",
   "execution_count": null,
   "metadata": {},
   "outputs": [],
   "source": []
  }
 ],
 "metadata": {
  "kernelspec": {
   "display_name": "Python 3",
   "language": "python",
   "name": "python3"
  },
  "language_info": {
   "codemirror_mode": {
    "name": "ipython",
    "version": 3
   },
   "file_extension": ".py",
   "mimetype": "text/x-python",
   "name": "python",
   "nbconvert_exporter": "python",
   "pygments_lexer": "ipython3",
   "version": "3.8.3"
  }
 },
 "nbformat": 4,
 "nbformat_minor": 4
}
